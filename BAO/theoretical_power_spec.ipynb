{
 "cells": [
  {
   "cell_type": "markdown",
   "metadata": {},
   "source": [
    "# PK file containing 33 columns"
   ]
  },
  {
   "cell_type": "code",
   "execution_count": 237,
   "metadata": {},
   "outputs": [],
   "source": [
    "import numpy as np\n",
    "import matplotlib.pyplot as plt\n",
    "\n",
    "camb = np.genfromtxt('./camb_regpt/planck18_matterpower.dat')\n",
    "\n",
    "from scipy.interpolate import interp1d\n",
    "import itertools\n",
    "\n",
    "kk = np.linspace(0.001,0.15,100)\n",
    "\n",
    "k = camb[:,0]\n",
    "\n",
    "pb2d_0 = camb[:,5]\n",
    "pb2d = interp1d(k,pb2d_0,kind='nearest')\n",
    "\n",
    "\n",
    "pb2v_0 = camb[:,6]\n",
    "pb2v = interp1d(k,pb2v_0,kind='nearest')\n",
    "\n",
    "\n",
    "pb22_0 = camb[:,7]\n",
    "pb22 = interp1d(k,pb22_0,kind='nearest')\n",
    "\n",
    "\n",
    "pbs2d_0 = camb[:,8]\n",
    "pbs2d = interp1d(k,pbs2d_0,kind='nearest')\n",
    "\n",
    "\n",
    "pbs2v_0 = camb[:,9]\n",
    "pbs2v = interp1d(k,pbs2v_0,kind='nearest')\n",
    "\n",
    "\n",
    "pb2s2_0 = camb[:,10]\n",
    "pb2s2 = interp1d(k,pb2s2_0,kind='nearest')\n",
    "\n",
    "\n",
    "pbs22_0 = camb[:,11]\n",
    "pbs22 = interp1d(k,pbs22_0,kind='nearest')\n",
    "\n",
    "\n",
    "pb3nl_0 = camb[:,12]\n",
    "pb3nl = interp1d(k,pb3nl_0,kind='nearest')\n",
    "\n",
    "\n",
    "A = np.full((3,3),None)\n",
    "A0 = np.full((3,3),None)\n",
    "A0[0,0],A0[0,1],A0[1,1],A0[1,2],A0[2,2] = camb[:,16:21].T\n",
    "for m,n in itertools.product(range(3),range(3)):\n",
    "    if A0[m,n] is not None:\n",
    "        A[m,n] = interp1d(k,A0[m,n],kind='nearest')\n",
    "       \n",
    "        \n",
    "B0 = np.full((4,4,4),None)\n",
    "B = np.full((4,4,4),None)\n",
    "B0[0,0,0],B0[0,0,1],B0[0,1,0],B0[0,1,1],\\\n",
    "B0[1,0,0],B0[1,0,1],B0[1,1,0],B0[1,1,1],\\\n",
    "B0[2,0,1],B0[2,1,0],B0[2,1,1],B0[3,1,1] = camb[:,21:33].T\n",
    "for m,a,b in itertools.product(range(4),range(2),range(2)):\n",
    "    if B0[m,a,b] is not None:\n",
    "        B[m,a,b] = interp1d(k,B0[m,a,b],kind='nearest')\n",
    "        "
   ]
  },
  {
   "cell_type": "markdown",
   "metadata": {},
   "source": [
    "# Pdd,Pdv,Pvv from RegPT"
   ]
  },
  {
   "cell_type": "code",
   "execution_count": 238,
   "metadata": {},
   "outputs": [],
   "source": [
    "k11,_,_,pdd_0,_ = np.genfromtxt('./camb_regpt/p11.dat').T\n",
    "pdd = interp1d(k11,pdd_0,kind='nearest')\n",
    "\n",
    "\n",
    "k12,_,_,pdv_0,_ = np.genfromtxt('./camb_regpt/p12.dat').T\n",
    "pdv = interp1d(k12,pdv_0,kind='nearest')\n",
    "\n",
    "\n",
    "k22,_,_,pvv_0,_ = np.genfromtxt('./camb_regpt/p22.dat').T\n",
    "pvv = interp1d(k22,pvv_0,kind='nearest')\n"
   ]
  },
  {
   "cell_type": "code",
   "execution_count": 239,
   "metadata": {},
   "outputs": [
    {
     "data": {
      "image/png": "[encoded data removed]",
      "text/plain": [
       "<Figure size 432x288 with 1 Axes>"
      ]
     },
     "metadata": {
      "needs_background": "light"
     },
     "output_type": "display_data"
    }
   ],
   "source": [
    "cut = np.where((pvv != pdd) & (pdv != pdd) & (pvv != pdv))\n",
    "plt.plot(kk,kk*pvv(kk),label=r'$P_{\\theta \\theta}$')\n",
    "plt.plot(kk,kk*pdv(kk),label=r'$P_{\\delta \\theta}$')\n",
    "plt.plot(kk,kk*pvv(kk),label=r'$P_{\\delta \\delta}$')\n",
    "plt.legend()\n",
    "plt.yscale('log')\n",
    "plt.show()"
   ]
  },
  {
   "cell_type": "markdown",
   "metadata": {},
   "source": [
    "# TNS model"
   ]
  },
  {
   "cell_type": "code",
   "execution_count": 240,
   "metadata": {},
   "outputs": [],
   "source": [
    "from astropy.cosmology import Planck15 as cosmo\n",
    "from scipy import integrate\n",
    "from scipy.special import legendre\n",
    "\n",
    "\n",
    "def pg(u,k,z, \n",
    "       zp,ap_perp,ap_para,fps8,gamma,b1s8,b2s8,s8,vp,Nshot):    \n",
    "\n",
    "    x = (cosmo.comoving_distance(z)/cosmo.comoving_distance(zp)).value-1\n",
    "    \n",
    "    az_perp = ap_perp + (ap_para-ap_perp)*x\n",
    "    az_para = ap_para + 2*(ap_para-ap_perp)*x\n",
    "    \n",
    "    b1 = b1s8/s8 + 0.29*((1+z)**2-(1+zp)**2)\n",
    "    b2 = b2s8/s8\n",
    "    \n",
    "    omega_ratio = ((1+z)/(1+zp))**3 * (az_para/ap_para)**2 * ((cosmo.H(zp)/cosmo.H(z)).value)**2\n",
    "    fz = fps8/s8*omega_ratio**gamma\n",
    "\n",
    "    \n",
    "    vz = (cosmo.H(zp)/cosmo.H(z)).value * az_para/ap_para * (1+z)/(1+zp) * vp\n",
    "    \n",
    "    bs2 = -4/7*(b1-1)\n",
    "    b3nl = 32/315*(b1-1)\n",
    "    \n",
    "    pgdd = b1**2*pdd(k) + 2*b1*b2*pb2d(k) + 2*bs2*b1*pbs2d(k) + 2*b3nl*pb3nl(k) + b2**2*pb22(k)\n",
    " \n",
    "    \n",
    "    \n",
    "    pgdv = b1*pdv(k) + b2*pb2v(k) + bs2*pbs2d(k) + b3nl*pb3nl(k)\n",
    "\n",
    "    dfog = (1+(k*u*vz)**2/2)**(-2)\n",
    "   \n",
    "\n",
    "    par1 = b1**3\n",
    "    par2 = []\n",
    "    for m,n in itertools.product(range(3),range(3)):\n",
    "        if A[m,n] is not None:\n",
    "            par2.append(u**(2*m)*(fz/b1)**n*A[m,n](k))\n",
    "    AA = par1*np.sum(par2,axis=0)\n",
    "\n",
    "    par1 = b1**4\n",
    "    par2 = []\n",
    "    for m,a,b in itertools.product(range(4),range(2),range(2)):\n",
    "        if B[m,a,b] is not None:\n",
    "            par2.append(u**(2*m)*(-fz/b1)**(a+b)*B[m,a,b](k))\n",
    "    BB = par1*np.sum(par2,axis=0)\n",
    "    \n",
    "    pgz = dfog * (pgdd + 2*fz*u**2*pgdv + fz**2*u**4*pvv(k) + AA + BB)\n",
    "    \n",
    "    return pgz\n",
    "\n",
    "    \n",
    "def p(l,k,z,\n",
    "     zp,ap_perp,ap_para,fps8,gamma,b1s8,b2s8,s8,vp,Nshot):   \n",
    "\n",
    "    x = (cosmo.comoving_distance(z)/cosmo.comoving_distance(zp)).value-1 \n",
    "    az_perp = ap_perp + (ap_para-ap_perp)*x\n",
    "    az_para = ap_para + 2*(ap_para-ap_perp)*x\n",
    "    \n",
    "    a = az_perp**(2/3)*az_para**(1/3)\n",
    "    FAP = az_para/az_perp\n",
    "    eps = FAP**(1/3)-1\n",
    "    \n",
    "    uu = np.linspace(-1,1,101)\n",
    "    u = uu[1:]\n",
    "    du = np.diff(uu)\n",
    "    \n",
    "    Ll = legendre(l)\n",
    "    \n",
    "    pp = []\n",
    "    \n",
    "    for i,ui in enumerate(u):\n",
    "    \n",
    "        k1 = k*(1+eps)/a*(1+ui**2*((1+eps)**(-6)-1))**(1/2)\n",
    "        u1 = ui/(1+eps)**3*(1+ui**2*((1+eps)**(-6)-1))**(1/2)  \n",
    "    \n",
    "        pgz =  pg(u1,k1,z, \n",
    "           zp,ap_perp,ap_para,fps8,gamma,b1s8,b2s8,s8,vp,Nshot)    \n",
    "    \n",
    "        \n",
    "        pu = pgz*Ll(ui)\n",
    "        pp.append(pu)\n",
    "\n",
    "    pp = np.array(pp)\n",
    "    pp = np.sum(pp*du[:,None],axis=0)\n",
    "    \n",
    "    pl = (2*l+1)/(2*az_para*az_perp**2) * pp\n",
    "    \n",
    "    return pl\n"
   ]
  },
  {
   "cell_type": "code",
   "execution_count": 245,
   "metadata": {},
   "outputs": [
    {
     "data": {
      "text/plain": [
       "[<matplotlib.lines.Line2D at 0x7f97e2809110>]"
      ]
     },
     "execution_count": 245,
     "metadata": {},
     "output_type": "execute_result"
    },
    {
     "data": {
      "image/png": "[encoded data removed]",
      "text/plain": [
       "<Figure size 432x288 with 1 Axes>"
      ]
     },
     "metadata": {
      "needs_background": "light"
     },
     "output_type": "display_data"
    }
   ],
   "source": [
    "zp =  1.51         # zp\n",
    "ap_perp = 1    # alpha_perp(zp)\n",
    "ap_para = 1   # alpha_para(zp)\n",
    "fps8 = 0.379         # f(zp)sigma8(zp)\n",
    "gamma = 1        # gamma\n",
    "b1s8 = 0.826         # b1(zp)sigma8(zp)\n",
    "b2s8 = 0.426         # b2(zp)sigma8(zp)\n",
    "s8 = 0.376          # sigma8(zp)\n",
    "vp = 3.784            # sigma_v(zp) \n",
    "Nshot = -1580\n",
    "\n",
    "z = 1.944\n",
    "p0 = p(0,kk,z,\n",
    "         zp,ap_perp,ap_para,fps8,gamma,b1s8,b2s8,s8,vp,Nshot) \n",
    "\n",
    "p2 = p(2,kk,z,\n",
    "         zp,ap_perp,ap_para,fps8,gamma,b1s8,b2s8,s8,vp,Nshot) \n",
    "p4 = p(4,kk,z,\n",
    "         zp,ap_perp,ap_para,fps8,gamma,b1s8,b2s8,s8,vp,Nshot) \n",
    "\n",
    "plt.plot(kk,kk*p0)\n",
    "plt.plot(kk,kk*p2)\n",
    "plt.plot(kk[:len(kk)//2],(kk*p4)[:len(kk)//2])"
   ]
  },
  {
   "cell_type": "code",
   "execution_count": null,
   "metadata": {},
   "outputs": [],
   "source": []
  }
 ],
 "metadata": {
  "kernelspec": {
   "display_name": "Python 3",
   "language": "python",
   "name": "python3"
  },
  "language_info": {
   "codemirror_mode": {
    "name": "ipython",
    "version": 3
   },
   "file_extension": ".py",
   "mimetype": "text/x-python",
   "name": "python",
   "nbconvert_exporter": "python",
   "pygments_lexer": "ipython3",
   "version": "3.7.6"
  }
 },
 "nbformat": 4,
 "nbformat_minor": 4
}
