{
 "cells": [
  {
   "cell_type": "markdown",
   "metadata": {},
   "source": [
    "# $Pk^{\\rm{raw}}$"
   ]
  },
  {
   "cell_type": "markdown",
   "metadata": {},
   "source": [
    "## FFT deltas"
   ]
  },
  {
   "cell_type": "code",
   "execution_count": 242,
   "metadata": {},
   "outputs": [],
   "source": [
    "import os\n",
    "\n",
    "path = '/home/littlelin/Cosmic/lya_xcf/eboss_lya/'\n",
    "d_list = os.listdir(path)\n",
    "\n",
    "import astropy.io.fits as fits\n",
    "import pyfftw as fftw\n",
    "import numpy as np\n",
    "import astropy.constants as const\n",
    "\n",
    "z = []\n",
    "z_q = []\n",
    "ra = []\n",
    "dec = []\n",
    "vel = []\n",
    "\n",
    "Pk = []\n",
    "k = []\n",
    "avg_R = []\n",
    "\n",
    "Delta_vel = 207.08929\n",
    "\n",
    "for d in d_list:\n",
    "    \n",
    "    delta_set = fits.open(path+d)\n",
    "    \n",
    "    for index in np.arange(1,len(delta_set)):  \n",
    "        \n",
    "        loglam = delta_set[index].data['LOGLAM']\n",
    "        lam = 10**(loglam)\n",
    "        delta = delta_set[index].data['DELTA']\n",
    "        cont = delta_set[index].data['cont']\n",
    "        z_qso = delta_set[index].header['Z']\n",
    "        lrf = lam/(1+z_qso)\n",
    "        w = delta_set[index].data['WEIGHT']\n",
    "        z_lya = lam/1215.67-1\n",
    "        #ra_obj = delta_set[index].header['RA']\n",
    "        #dec_obj = delta_set[index].header['DEC']\n",
    "        \n",
    "        \n",
    "        #scp = (lrf>1050)&(lrf<1180)\n",
    "        #lam = lam[scp]\n",
    "        delta = delta.astype('float')\n",
    "        \n",
    "        vel_lya = np.log(lam)*const.c.to('km/s')\n",
    "        vel_lya = vel_lya-vel_lya[0]\n",
    "        vel.append(vel_lya)\n",
    "\n",
    "        z.append(z_lya)\n",
    "        z_q.append(z_qso)\n",
    "        #Delta_vel = np.diff(vel_lya)[1].value\n",
    "\n",
    "        fft = fftw.builders.rfft(delta)\n",
    "        pk = fft()\n",
    "        kk = 2*np.pi*np.fft.rfftfreq(len(vel_lya))/Delta_vel\n",
    "        \n",
    "        Pk.append(pk)\n",
    "        k.append(kk) \n",
    "        \n",
    "z = np.concatenate(z)\n",
    "vel = np.array(vel)\n",
    "\n",
    "Pk = np.array(Pk)\n",
    "k  = np.array(k)"
   ]
  },
  {
   "cell_type": "markdown",
   "metadata": {},
   "source": [
    "## Redshift distribution of LYA forest pixels"
   ]
  },
  {
   "cell_type": "code",
   "execution_count": 243,
   "metadata": {},
   "outputs": [
    {
     "data": {
      "image/png": "[encoded data removed]",
      "text/plain": [
       "<Figure size 432x288 with 1 Axes>"
      ]
     },
     "metadata": {
      "needs_background": "light"
     },
     "output_type": "display_data"
    }
   ],
   "source": [
    "import matplotlib.pyplot as plt\n",
    "plt.hist(z,bins=50,histtype='step',label='lya forest')\n",
    "#plt.hist(z_q,bins=100,histtype='step',label='quasars')\n",
    "plt.xlabel('redshift')\n",
    "plt.legend()\n",
    "plt.show()"
   ]
  },
  {
   "cell_type": "code",
   "execution_count": 278,
   "metadata": {},
   "outputs": [
    {
     "data": {
      "image/png": "[encoded data removed]",
      "text/plain": [
       "<Figure size 432x288 with 1 Axes>"
      ]
     },
     "metadata": {
      "needs_background": "light"
     },
     "output_type": "display_data"
    }
   ],
   "source": [
    "amp = np.absolute(Pk)\n",
    "a = amp**2\n",
    "\n",
    "\n",
    "n = 20\n",
    "k_min = 0.001\n",
    "k_max = 0.015\n",
    "\n",
    "k_new = k_min + (np.arange(n)+.5)*(k_max-k_min)/n\n",
    "\n",
    "Pk_new = np.zeros(n)\n",
    "count = np.zeros(n)\n",
    "\n",
    "threshold = 10**4\n",
    "\n",
    "\n",
    "\n",
    "for kk,pk in zip(k,a):\n",
    "    \n",
    "    pk = pk[(kk>k_min)&(kk<k_max)]\n",
    "    kk = kk[(kk>k_min)&(kk<k_max)]\n",
    "    w = np.ones(pk.shape)\n",
    "    pk[(pk>threshold)] = 0  \n",
    "    w[pk>threshold] = 0\n",
    "    \n",
    "    bins = ((kk - k_min)/(k_max-k_min)*n).astype(int)\n",
    "    pk_new = np.bincount(bins,weights=pk)\n",
    "    Pk_new[:len(pk_new)] += pk_new\n",
    "\n",
    "    \n",
    "    c = np.bincount(bins,weights=w)\n",
    "    count[:len(pk_new)] += c\n",
    "    \n",
    "\n",
    "Pk_new = np.array(Pk_new)\n",
    "\n",
    "avg_Pk = Pk_new/count\n",
    "\n",
    "plt.plot(k_new,avg_Pk,'.')\n",
    "plt.xlabel(r'k $(km/s)^{-1}$')\n",
    "plt.ylabel('P(k)')\n",
    "plt.title('with threshold=%d'%threshold)\n",
    "plt.show()"
   ]
  },
  {
   "cell_type": "code",
   "execution_count": null,
   "metadata": {},
   "outputs": [],
   "source": [
    "n = 20\n",
    "k_min = 0.001\n",
    "k_max = 0.015\n",
    "\n",
    "k_new = k_min + (np.arange(n)+.5)*(k_max-k_min)/n\n",
    "\n",
    "Pk_new = []\n",
    "count = np.zeros(n)\n",
    "\n",
    "for kk,pk in zip(k,a):\n",
    "    \n",
    "    pk = pk[(kk>k_min)&(kk<k_max)]\n",
    "    kk = kk[(kk>k_min)&(kk<k_max)]\n",
    "\n",
    "    w = np.ones(pk.shape)\n",
    "    \n",
    "    bins = ((kk - k_min)/(k_max-k_min)*n).astype(int)\n",
    "    pk_new = np.bincount(bins,weights=pk)\n",
    "    pp = np.pad(pk_new,(0,len(k_new)-len(pk_new)),'constant', constant_values=(0,0)) \n",
    "    Pk_new.append(pp)\n",
    "    \n",
    "    c = np.bincount(bins,weights=w)\n",
    "    count[:len(pk_new)] += c\n",
    "\n",
    "Pk_new = np.array(Pk_new)\n",
    "\n",
    "plt.plot(k_new,Pk_new.sum(0)/count,'.')\n",
    "plt.title('without threshold')\n",
    "plt.show\n",
    "\n",
    "plt.plot(Pk_new[:,10])\n",
    "plt.title('k=%f'%k_new[10])\n",
    "plt.show()"
   ]
  },
  {
   "cell_type": "code",
   "execution_count": 274,
   "metadata": {},
   "outputs": [
    {
     "name": "stdout",
     "output_type": "stream",
     "text": [
      "(210005,)\n"
     ]
    },
    {
     "data": {
      "image/png": "[encoded data removed]",
      "text/plain": [
       "<Figure size 432x288 with 1 Axes>"
      ]
     },
     "metadata": {
      "needs_background": "light"
     },
     "output_type": "display_data"
    },
    {
     "data": {
      "image/png": "[encoded data removed]",
      "text/plain": [
       "<Figure size 432x288 with 1 Axes>"
      ]
     },
     "metadata": {
      "needs_background": "light"
     },
     "output_type": "display_data"
    }
   ],
   "source": [
    "g=[]\n",
    "for i in a:\n",
    "    for ii in i:\n",
    "        g.append(ii)\n",
    "        \n",
    "        \n",
    "print(a.shape)\n",
    "plt.hist(g,100,histtype='step')\n",
    "plt.xlabel('value of P(k)')\n",
    "plt.ylabel('N')\n",
    "plt.show()\n",
    "\n",
    "plt.hist((np.log10(g)),100,histtype='step')\n",
    "plt.xlabel('value of log10[P(k)]')\n",
    "plt.ylabel('N')\n",
    "plt.show()"
   ]
  },
  {
   "cell_type": "markdown",
   "metadata": {},
   "source": [
    "# $Pk^{\\rm{SB_1}}$"
   ]
  },
  {
   "cell_type": "code",
   "execution_count": 204,
   "metadata": {},
   "outputs": [],
   "source": [
    "path = './side/'\n",
    "sb_list = os.listdir(path)\n",
    "\n",
    "import astropy.io.fits as fits\n",
    "import pyfftw as fftw\n",
    "import numpy as np\n",
    "import astropy.constants as const\n",
    "\n",
    "z = []\n",
    "z_q = []\n",
    "ra = []\n",
    "dec = []\n",
    "vel = []\n",
    "\n",
    "Pk = []\n",
    "k = []\n",
    "avg_R = []\n",
    "\n",
    "Delta_vel = 69.029764\n",
    "\n",
    "for sb in sb_list:\n",
    "    \n",
    "    delta_set = fits.open(path+sb)\n",
    "    \n",
    "    for index in np.arange(1,len(delta_set)):  \n",
    "        \n",
    "        loglam = delta_set[index].data['LOGLAM']\n",
    "        lam = 10**(loglam)\n",
    "        delta = delta_set[index].data['DELTA']\n",
    "        cont = delta_set[index].data['cont']\n",
    "        z_qso = delta_set[index].header['Z']\n",
    "        lrf = lam/(1+z_qso)\n",
    "        w = delta_set[index].data['WEIGHT']\n",
    "        z_lya = lam/1215.67-1\n",
    "        #ra_obj = delta_set[index].header['RA']\n",
    "        #dec_obj = delta_set[index].header['DEC']\n",
    "        \n",
    "        \n",
    "        #scp = (lrf>1050)&(lrf<1180)\n",
    "        #lam = lam[scp]\n",
    "        delta = delta.astype('float')\n",
    "        \n",
    "        vel_lya = np.log(lam)*const.c.to('km/s')\n",
    "        vel_lya = vel_lya-vel_lya[0]\n",
    "        vel.append(vel_lya)\n",
    "\n",
    "        z.append(z_lya)\n",
    "        z_q.append(z_qso)\n",
    "        #Delta_vel = np.diff(vel_lya)[1].value\n",
    "\n",
    "        fft = fftw.builders.rfft(delta)\n",
    "        pk = fft()\n",
    "        kk = 2*np.pi*np.fft.rfftfreq(len(vel_lya))/Delta_vel\n",
    "        Pk.append(pk)\n",
    "        k.append(kk) \n",
    "        \n",
    "z = np.concatenate(z)\n",
    "vel = np.array(vel)\n",
    "\n",
    "Pk = np.array(Pk)\n",
    "k  = np.array(k)"
   ]
  },
  {
   "cell_type": "code",
   "execution_count": 205,
   "metadata": {},
   "outputs": [],
   "source": [
    "amp = np.absolute(Pk)\n",
    "a = amp**2\n",
    "\n",
    "\n",
    "from scipy.interpolate import interp1d\n",
    "\n",
    "n = 20\n",
    "k_min = 0.001\n",
    "k_max = 0.015\n",
    "\n",
    "k_new = k_min + (np.arange(n)+.5)*(k_max-k_min)/n\n",
    "\n",
    "Pk_new = np.zeros(n)\n",
    "count = np.zeros(n)\n",
    "\n",
    "threshold = 10**4\n",
    "\n",
    "for kk,pk in zip(k,a):\n",
    "    \n",
    "    pk = pk[(kk>k_min)&(kk<k_max)]\n",
    "    kk = kk[(kk>k_min)&(kk<k_max)]\n",
    "    w = np.ones(pk.shape)\n",
    "    pk[(pk>threshold)] = 0  \n",
    "    w[pk>threshold] = 0\n",
    "    \n",
    "    bins = ((kk - k_min)/(k_max-k_min)*n).astype(int)\n",
    "    pk_new = np.bincount(bins,weights=pk)\n",
    "    Pk_new[:len(pk_new)] += pk_new\n",
    "    \n",
    "    c = np.bincount(bins,weights=w)\n",
    "    count[:len(pk_new)] += c\n",
    "    \n",
    "\n",
    "Pk_new = np.array(Pk_new)\n",
    "\n",
    "avg_Pk = Pk_new/count"
   ]
  },
  {
   "cell_type": "code",
   "execution_count": 207,
   "metadata": {},
   "outputs": [
    {
     "data": {
      "image/png": "[encoded data removed]",
      "text/plain": [
       "<Figure size 432x288 with 1 Axes>"
      ]
     },
     "metadata": {
      "needs_background": "light"
     },
     "output_type": "display_data"
    }
   ],
   "source": [
    "plt.plot(k_new,avg_Pk,'.')\n",
    "plt.xlabel('k (km/s)')\n",
    "plt.ylabel('Pk')\n",
    "plt.show()"
   ]
  },
  {
   "cell_type": "code",
   "execution_count": null,
   "metadata": {},
   "outputs": [],
   "source": []
  },
  {
   "cell_type": "code",
   "execution_count": null,
   "metadata": {},
   "outputs": [],
   "source": []
  }
 ],
 "metadata": {
  "kernelspec": {
   "display_name": "Python 3",
   "language": "python",
   "name": "python3"
  },
  "language_info": {
   "codemirror_mode": {
    "name": "ipython",
    "version": 3
   },
   "file_extension": ".py",
   "mimetype": "text/x-python",
   "name": "python",
   "nbconvert_exporter": "python",
   "pygments_lexer": "ipython3",
   "version": "3.7.6"
  }
 },
 "nbformat": 4,
 "nbformat_minor": 4
}
